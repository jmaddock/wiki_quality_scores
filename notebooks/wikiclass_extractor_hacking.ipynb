{
 "cells": [
  {
   "cell_type": "code",
   "execution_count": 1,
   "metadata": {
    "collapsed": false
   },
   "outputs": [],
   "source": [
    "import sys\n",
    "sys.path.append('/Users/klogg/dev/wiki_languages/quality_scores/')\n",
    "import single_revision_template_extractor\n",
    "#from wikiclass.extractors.extractor import TemplateExtractor\n",
    "#import custom_extractors.enwiki"
   ]
  },
  {
   "cell_type": "code",
   "execution_count": 2,
   "metadata": {
    "collapsed": false
   },
   "outputs": [
    {
     "name": "stdout",
     "output_type": "stream",
     "text": [
      "<module '__main__'>\n",
      "!\n",
      "__main__\n"
     ]
    }
   ],
   "source": [
    "import logging\n",
    "import re\n",
    "import sys\n",
    "import traceback\n",
    "\n",
    "from single_revision_template_extractor import Single_Revision_Template_Extractor\n",
    "\n",
    "logger = logging.getLogger(__name__)\n",
    "\n",
    "POSSIBLE_LABELS = (\"stub\", \"start\", \"c\", \"b\", \"a\", \"ga\", \"fa\")\n",
    "\n",
    "\n",
    "def from_template(template):\n",
    "\n",
    "    if template.has_param('class'):\n",
    "        template_name = normalize_template_name(template.name)\n",
    "        project_name = normalize_project_name(template_name)\n",
    "        try:\n",
    "            label = str(template.get('class').value.strip_code())\n",
    "            label = label.strip().lower()\n",
    "\n",
    "            if label in POSSIBLE_LABELS:\n",
    "                return project_name, label\n",
    "            else:\n",
    "                logger.debug(\"Class '{0}' not in possible classes.\"\n",
    "                             .format(label))\n",
    "                pass  # not a quality assessment class\n",
    "\n",
    "        except ValueError as e:\n",
    "            logger.warning(traceback.format_exc())\n",
    "            pass  # no assessment class in template\n",
    "\n",
    "\n",
    "TRANSLATIONS = {'maths rating': 'wikiproject mathematics'}\n",
    "\n",
    "\n",
    "def normalize_template_name(template_name):\n",
    "    template_name = str(template_name).lower().replace(\"_\", \" \")\n",
    "    if str(template_name) in TRANSLATIONS:\n",
    "        return TRANSLATIONS[template_name]\n",
    "    else:\n",
    "        return template_name\n",
    "\n",
    "\n",
    "WP_PREFIX = re.compile(\"^(wp|wikiproject) ?\", re.I)\n",
    "\n",
    "\n",
    "def normalize_project_name(template_name):\n",
    "    return WP_PREFIX.sub('', template_name.lower().replace(\"_\", \" \")).strip()\n",
    "\n",
    "\n",
    "print(sys.modules[__name__])\n",
    "sys.modules[__name__] = Single_Revision_Template_Extractor(\n",
    "    __name__,\n",
    "    doc=\"\"\"\n",
    "wikiclass.extractors.enwiki\n",
    "+++++++++++++++++++++++++++\n",
    "This extractor looks for instances of templates that contain\n",
    "\"class=<some class>\" on article talk pages (namespace = 1) and parses the\n",
    "template name to obtain a `project`.\n",
    "\"\"\",\n",
    "    namespaces={1},\n",
    "    from_template=from_template\n",
    ")"
   ]
  },
  {
   "cell_type": "code",
   "execution_count": 4,
   "metadata": {
    "collapsed": false
   },
   "outputs": [],
   "source": [
    "exractor = single_revision_template_extractor.load_single_revision_extractor('enwiki')"
   ]
  },
  {
   "cell_type": "code",
   "execution_count": 6,
   "metadata": {
    "collapsed": true
   },
   "outputs": [],
   "source": [
    "from wikiclass.utilities.extract_labelings import load_extractor\n",
    "from mw import xml_dump"
   ]
  },
  {
   "cell_type": "code",
   "execution_count": 7,
   "metadata": {
    "collapsed": true
   },
   "outputs": [],
   "source": [
    "old_extractor = load_extractor('enwiki')"
   ]
  },
  {
   "cell_type": "code",
   "execution_count": null,
   "metadata": {
    "collapsed": true
   },
   "outputs": [],
   "source": []
  }
 ],
 "metadata": {
  "kernelspec": {
   "display_name": "Python 3",
   "language": "python",
   "name": "python3"
  },
  "language_info": {
   "codemirror_mode": {
    "name": "ipython",
    "version": 3
   },
   "file_extension": ".py",
   "mimetype": "text/x-python",
   "name": "python",
   "nbconvert_exporter": "python",
   "pygments_lexer": "ipython3",
   "version": "3.5.0"
  }
 },
 "nbformat": 4,
 "nbformat_minor": 2
}
